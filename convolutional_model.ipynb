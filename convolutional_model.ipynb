{
 "cells": [
  {
   "cell_type": "markdown",
   "metadata": {},
   "source": [
    "# Convolutional model implementtion \n",
    "## LeNet 5 \n",
    "### Using Con2d as a convolutional layer and Linear as a linear layer from torch"
   ]
  },
  {
   "cell_type": "code",
   "execution_count": 11,
   "metadata": {},
   "outputs": [],
   "source": [
    "import torch\n",
    "import torch.nn as nn #parent\n",
    "import torch.nn.functional as F #activation func, max pooling funcs\n",
    "from torch.utils.data import ConcatDataset\n",
    "import torch.optim as optim\n",
    "\n",
    "import torchvision\n",
    "import torchvision.transforms as transforms\n",
    "\n",
    "import tensorflow as tf\n",
    "\n",
    "import math\n",
    "import numpy as np\n",
    "\n",
    "import sys\n",
    "sys.path.append('/home/sandrech/code/ml/square_attack_v2')\n",
    "from attack import square_attack_l2, square_attack_linf\n",
    "\n",
    "import utils\n",
    "from utils import dense_to_onehot"
   ]
  },
  {
   "cell_type": "markdown",
   "metadata": {},
   "source": [
    "## Creating model"
   ]
  },
  {
   "cell_type": "code",
   "execution_count": 12,
   "metadata": {},
   "outputs": [],
   "source": [
    "class LeNet_5(nn.Module):\n",
    "    def __init__(self):\n",
    "        super(LeNet_5, self).__init__()\n",
    "\n",
    "        self.conv1 = nn.Conv2d(in_channels=3, out_channels=6, kernel_size=5)\n",
    "        self.conv2 = nn.Conv2d(6, 16, 5)\n",
    "\n",
    "        self.pool = nn.MaxPool2d(kernel_size=2, stride=2) #equivalent to nn.Maxpool2d(2)\n",
    "        \n",
    "        self.fc1 = nn.Linear(16 * 5 * 5, 120)\n",
    "        self.fc2 = nn.Linear(120, 84)\n",
    "        self.fc3 = nn.Linear(84, 10)\n",
    "    \n",
    "    def forward(self, x):\n",
    "        # x = F.max_pool2d(F.relu(self.conv1(x)), (2, 2))\n",
    "        # x = F.max_pool2d(F.relu(self.conv2(x)), 2)\n",
    "\n",
    "        x = self.pool(F.relu(self.conv1(x)))\n",
    "        x = self.pool(F.relu(self.conv2(x)))\n",
    "\n",
    "        x = x.view(-1, 16 * 5 * 5)\n",
    "        x = F.relu(self.fc1(x))\n",
    "        x = F.relu(self.fc2(x))\n",
    "        x= self.fc3(x)\n",
    "        return x\n",
    "    def num_flat_features(self, x):\n",
    "        size = x.size()[1:]\n",
    "        num_features = 1\n",
    "        for s in size:\n",
    "            num_features = num_features * s\n",
    "        return num_features\n"
   ]
  },
  {
   "cell_type": "markdown",
   "metadata": {},
   "source": [
    "## Downloading datasets from torchvision and applying transforms to it"
   ]
  },
  {
   "cell_type": "code",
   "execution_count": 13,
   "metadata": {},
   "outputs": [
    {
     "name": "stdout",
     "output_type": "stream",
     "text": [
      "Files already downloaded and verified\n"
     ]
    }
   ],
   "source": [
    "transform = transforms.Compose([transforms.ToTensor()])\n",
    "trainset = torchvision.datasets.CIFAR10(root='./data', \n",
    "                                        train=True,\n",
    "                                        download=True,\n",
    "                                        transform=transform)\n",
    "x = torch.stack([sample[0] for sample in ConcatDataset([trainset])])\n",
    "mean = torch.mean(x, dim=(0,2,3))\n",
    "std = torch.std(x, dim=(0,2,3)) #standart deviation\n",
    "transform = transforms.Compose(\n",
    "    [transforms.ToTensor(),\n",
    "     transforms.Normalize(mean, std)])"
   ]
  },
  {
   "cell_type": "markdown",
   "metadata": {},
   "source": [
    "## Organizing data into batches"
   ]
  },
  {
   "cell_type": "code",
   "execution_count": 14,
   "metadata": {},
   "outputs": [],
   "source": [
    "trainloader = torch.utils.data.DataLoader(trainset, batch_size=4,\n",
    "                                          shuffle=False, num_workers=2)"
   ]
  },
  {
   "cell_type": "markdown",
   "metadata": {},
   "source": []
  },
  {
   "cell_type": "markdown",
   "metadata": {},
   "source": [
    "## Adding optimizer and loss function"
   ]
  },
  {
   "cell_type": "code",
   "execution_count": 15,
   "metadata": {},
   "outputs": [],
   "source": [
    "net = LeNet_5()\n",
    "criterion = nn.CrossEntropyLoss()\n",
    "optimizer = optim.SGD(net.parameters(), lr=0.001, momentum=0.9)"
   ]
  },
  {
   "cell_type": "markdown",
   "metadata": {},
   "source": [
    "## Training model"
   ]
  },
  {
   "cell_type": "code",
   "execution_count": 21,
   "metadata": {},
   "outputs": [
    {
     "name": "stdout",
     "output_type": "stream",
     "text": [
      "[1,  2000] loss: 1.371\n",
      "[1,  4000] loss: 1.366\n",
      "[1,  6000] loss: 1.328\n",
      "[1,  8000] loss: 1.313\n",
      "[1, 10000] loss: 1.335\n",
      "[1, 12000] loss: 1.301\n",
      "[2,  2000] loss: 1.283\n",
      "[2,  4000] loss: 1.281\n",
      "[2,  6000] loss: 1.246\n",
      "[2,  8000] loss: 1.236\n",
      "[2, 10000] loss: 1.256\n",
      "[2, 12000] loss: 1.231\n",
      "[3,  2000] loss: 1.213\n",
      "[3,  4000] loss: 1.213\n",
      "[3,  6000] loss: 1.189\n",
      "[3,  8000] loss: 1.178\n",
      "[3, 10000] loss: 1.193\n",
      "[3, 12000] loss: 1.167\n",
      "[4,  2000] loss: 1.155\n",
      "[4,  4000] loss: 1.147\n",
      "[4,  6000] loss: 1.135\n",
      "[4,  8000] loss: 1.129\n",
      "[4, 10000] loss: 1.147\n",
      "[4, 12000] loss: 1.124\n",
      "[5,  2000] loss: 1.111\n",
      "[5,  4000] loss: 1.105\n",
      "[5,  6000] loss: 1.078\n",
      "[5,  8000] loss: 1.071\n",
      "[5, 10000] loss: 1.098\n",
      "[5, 12000] loss: 1.075\n",
      "Finished Training\n"
     ]
    }
   ],
   "source": [
    "for epoch in range(5):  # loop over the dataset multiple times\n",
    "    running_loss = 0.0\n",
    "    for i, data in enumerate(trainloader, 0):\n",
    "        inputs, labels = data\n",
    "\n",
    "        optimizer.zero_grad()\n",
    "\n",
    "        outputs = net(inputs)\n",
    "        loss = criterion(outputs, labels)\n",
    "        loss.backward()\n",
    "        optimizer.step()\n",
    "\n",
    "        running_loss += loss.item()\n",
    "        if i % 2000 == 1999:\n",
    "            print('[%d, %5d] loss: %.3f' %\n",
    "                  (epoch + 1, i + 1, running_loss / 2000))\n",
    "            running_loss = 0.0\n",
    "\n",
    "print('Finished Training')\n",
    "\n",
    "#st = net.state_dict()\n",
    "#torch.save(st, \"conv_model.pth\")"
   ]
  },
  {
   "cell_type": "markdown",
   "metadata": {},
   "source": [
    "## Testing model"
   ]
  },
  {
   "cell_type": "code",
   "execution_count": 17,
   "metadata": {},
   "outputs": [
    {
     "name": "stdout",
     "output_type": "stream",
     "text": [
      "Files already downloaded and verified\n",
      "Accuracy of the network on the 10000 test images: 31 %\n"
     ]
    }
   ],
   "source": [
    "correct = 0\n",
    "total = 0\n",
    "testset = torchvision.datasets.CIFAR10(root='./data', train=False,\n",
    "                                       download=True, transform=transform)\n",
    "testloader = torch.utils.data.DataLoader(testset, batch_size=4,\n",
    "                                         shuffle=False, num_workers=2)\n",
    "with torch.no_grad():\n",
    "    for data in testloader:\n",
    "        images, labels = data\n",
    "        outputs = net(images)\n",
    "        _, predicted = torch.max(outputs.data, 1)\n",
    "        total += labels.size(0)\n",
    "        correct += (predicted == labels).sum().item()\n",
    "\n",
    "print('Accuracy of the network on the 10000 test images: %d %%' % (\n",
    "    100 * correct / total))"
   ]
  },
  {
   "cell_type": "markdown",
   "metadata": {},
   "source": [
    "## Square attack"
   ]
  },
  {
   "cell_type": "code",
   "execution_count": 18,
   "metadata": {},
   "outputs": [
    {
     "name": "stdout",
     "output_type": "stream",
     "text": [
      "Initial square side=6 for bumps\n",
      "1: acc=50.00% acc_corr=55.56% avg#q_ae=1.2 med#q_ae=1.0 s=7->7, n_ex=9, 3s, loss=0.074, max_pert=5.0, impr=1\n",
      "2: acc=50.00% acc_corr=55.56% avg#q_ae=1.2 med#q_ae=1.0 s=7->5, n_ex=9, 6s, loss=-0.039, max_pert=5.0, impr=2\n",
      "3: acc=50.00% acc_corr=55.56% avg#q_ae=1.2 med#q_ae=1.0 s=7->5, n_ex=9, 9s, loss=-0.048, max_pert=5.0, impr=1\n",
      "4: acc=30.00% acc_corr=33.33% avg#q_ae=2.5 med#q_ae=1.5 s=7->3, n_ex=9, 12s, loss=-0.183, max_pert=5.0, impr=3\n",
      "5: acc=30.00% acc_corr=33.33% avg#q_ae=2.5 med#q_ae=1.5 s=7->3, n_ex=9, 14s, loss=-0.214, max_pert=5.0, impr=2\n",
      "6: acc=20.00% acc_corr=22.22% avg#q_ae=3.1 med#q_ae=2.0 s=7->3, n_ex=9, 15s, loss=-0.300, max_pert=5.0, impr=1\n",
      "7: acc=20.00% acc_corr=22.22% avg#q_ae=3.1 med#q_ae=2.0 s=7->3, n_ex=9, 16s, loss=-0.303, max_pert=5.0, impr=1\n",
      "8: acc=20.00% acc_corr=22.22% avg#q_ae=3.1 med#q_ae=2.0 s=7->3, n_ex=9, 18s, loss=-0.313, max_pert=5.0, impr=2\n",
      "9: acc=20.00% acc_corr=22.22% avg#q_ae=3.1 med#q_ae=2.0 s=7->3, n_ex=9, 19s, loss=-0.332, max_pert=5.0, impr=1\n",
      "10: acc=10.00% acc_corr=11.11% avg#q_ae=4.1 med#q_ae=3.5 s=7->3, n_ex=9, 20s, loss=-0.359, max_pert=5.0, impr=2\n",
      "11: acc=10.00% acc_corr=11.11% avg#q_ae=4.1 med#q_ae=3.5 s=7->3, n_ex=9, 20s, loss=-0.366, max_pert=5.0, impr=1\n",
      "12: acc=10.00% acc_corr=11.11% avg#q_ae=4.1 med#q_ae=3.5 s=7->3, n_ex=9, 20s, loss=-0.369, max_pert=5.0, impr=1\n",
      "13: acc=10.00% acc_corr=11.11% avg#q_ae=4.1 med#q_ae=3.5 s=7->3, n_ex=9, 21s, loss=-0.369, max_pert=5.0, impr=0\n",
      "14: acc=10.00% acc_corr=11.11% avg#q_ae=4.1 med#q_ae=3.5 s=7->3, n_ex=9, 21s, loss=-0.369, max_pert=5.0, impr=0\n",
      "15: acc=10.00% acc_corr=11.11% avg#q_ae=4.1 med#q_ae=3.5 s=7->3, n_ex=9, 22s, loss=-0.369, max_pert=5.0, impr=1\n",
      "16: acc=10.00% acc_corr=11.11% avg#q_ae=4.1 med#q_ae=3.5 s=7->3, n_ex=9, 22s, loss=-0.371, max_pert=5.0, impr=1\n",
      "17: acc=10.00% acc_corr=11.11% avg#q_ae=4.1 med#q_ae=3.5 s=7->3, n_ex=9, 23s, loss=-0.371, max_pert=5.0, impr=0\n",
      "18: acc=10.00% acc_corr=11.11% avg#q_ae=4.1 med#q_ae=3.5 s=7->3, n_ex=9, 24s, loss=-0.440, max_pert=5.0, impr=1\n",
      "19: acc=10.00% acc_corr=11.11% avg#q_ae=4.1 med#q_ae=3.5 s=7->3, n_ex=9, 24s, loss=-0.440, max_pert=5.0, impr=0\n",
      "20: acc=0.00% acc_corr=0.00% avg#q_ae=6.0 med#q_ae=5.0 s=7->3, n_ex=9, 25s, loss=-0.447, max_pert=5.0, impr=1\n",
      "Maximal norm of the perturbations: 5.00000\n",
      "Maximal norm of the perturbations: 5.00000\n",
      "ASR 100.00%\n"
     ]
    }
   ],
   "source": [
    "import square_attack_v2.models\n",
    "import square_attack_v2.data\n",
    "from square_attack_v2.data import load_cifar10\n",
    "sys.path.append(\"/home/sandrech/code/ml/madry_cifar10/cifar10_data/cifar10_data\")\n",
    "sys.path.append(\"/home/sandrech/code/ml/square_attack_v2\")\n",
    "dataset = 'cifar10'\n",
    "model_name = 'pt_post_avg_cifar10'\n",
    "gpu_memory = 0.99\n",
    "batch_size = square_attack_v2.data.bs_dict[dataset]\n",
    "\n",
    "\n",
    "model =  square_attack_v2.models.ModelPT(model_name, batch_size, gpu_memory)\n",
    "\n",
    "loss = 'margin_loss' #not targeted attack\n",
    "eps = 5\n",
    "\n",
    "\n",
    "x_test, y_test = load_cifar10(1000)\n",
    "\n",
    "\n",
    "n_ex = 10\n",
    "n_iter = 100\n",
    "p = 0.05\n",
    "metrics_path = 'fixed_metrics_file.metrics'\n",
    "loss = 'cross_entropy'\n",
    "#x_test, y_test = data\n",
    "x_test, y_test = x_test[:n_ex], y_test[:n_ex]\n",
    "x_test /= 255.0\n",
    "#eps /= 255.0\n",
    "if (x_test.shape[0] == 0):\n",
    "    print(\"emty\")\n",
    "    #continue\n",
    "y_target_onehot = utils.dense_to_onehot(y_test, n_cls=10) \n",
    "\n",
    "logits_clean = model.predict(x_test)\n",
    "corr_classified = logits_clean.argmax(1) == y_test\n",
    "\n",
    "n_queries, x_adv = square_attack_l2(model, x_test, y_target_onehot, corr_classified, eps, n_iter,\n",
    "                                    p, metrics_path, False, loss)   \n"
   ]
  },
  {
   "cell_type": "markdown",
   "metadata": {},
   "source": [
    "## AQR"
   ]
  },
  {
   "cell_type": "code",
   "execution_count": 19,
   "metadata": {},
   "outputs": [
    {
     "name": "stdout",
     "output_type": "stream",
     "text": [
      "ASQ  6.0\n"
     ]
    }
   ],
   "source": [
    "cnt_queries = 0\n",
    "sm_quaries = 0\n",
    "for i in range (len(n_queries)):\n",
    "    if n_queries[i]!=0:\n",
    "        cnt_queries += 1\n",
    "        sm_quaries += n_queries[i]\n",
    "print(\"ASQ \", sm_quaries//cnt_queries)"
   ]
  },
  {
   "cell_type": "markdown",
   "metadata": {},
   "source": [
    "## Visualisation"
   ]
  },
  {
   "cell_type": "code",
   "execution_count": 20,
   "metadata": {},
   "outputs": [
    {
     "name": "stdout",
     "output_type": "stream",
     "text": [
      "original\n"
     ]
    },
    {
     "data": {
      "image/png": "[encoded data removed]",
      "text/plain": [
       "<Figure size 640x480 with 1 Axes>"
      ]
     },
     "metadata": {},
     "output_type": "display_data"
    },
    {
     "name": "stdout",
     "output_type": "stream",
     "text": [
      "adversal\n"
     ]
    },
    {
     "data": {
      "image/png": "[encoded data removed]",
      "text/plain": [
       "<Figure size 640x480 with 1 Axes>"
      ]
     },
     "metadata": {},
     "output_type": "display_data"
    },
    {
     "name": "stdout",
     "output_type": "stream",
     "text": [
      "noise\n"
     ]
    },
    {
     "data": {
      "image/png": "[encoded data removed]",
      "text/plain": [
       "<Figure size 640x480 with 1 Axes>"
      ]
     },
     "metadata": {},
     "output_type": "display_data"
    }
   ],
   "source": [
    "import matplotlib.pyplot as plt\n",
    "import numpy as np\n",
    "\n",
    "num_images = 1\n",
    "\n",
    "original_images = np.squeeze(x_test[:num_images])\n",
    "original_images = np.transpose(original_images, (1,2,0))\n",
    "\n",
    "adversarial_images = np.squeeze(x_adv[:num_images])\n",
    "adversarial_images = np.transpose(adversarial_images, (1, 2, 0))\n",
    "\n",
    "noise_images = np.clip(adversarial_images - original_images, 0, 1)\n",
    "print('original')\n",
    "plt.imshow(original_images)\n",
    "plt.show()\n",
    "print('adversal')\n",
    "plt.imshow(adversarial_images)\n",
    "plt.show()\n",
    "print('noise')\n",
    "plt.imshow(noise_images)\n",
    "plt.show()\n"
   ]
  }
 ],
 "metadata": {
  "kernelspec": {
   "display_name": "flower",
   "language": "python",
   "name": "flower"
  },
  "language_info": {
   "codemirror_mode": {
    "name": "ipython",
    "version": 3
   },
   "file_extension": ".py",
   "mimetype": "text/x-python",
   "name": "python",
   "nbconvert_exporter": "python",
   "pygments_lexer": "ipython3",
   "version": "3.10.16"
  }
 },
 "nbformat": 4,
 "nbformat_minor": 2
}
